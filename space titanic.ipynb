{
 "cells": [
  {
   "cell_type": "code",
   "execution_count": 61,
   "id": "1114d5a6",
   "metadata": {},
   "outputs": [],
   "source": [
    "import pandas as pd\n",
    "import numpy as np\n",
    "\n",
    "\n",
    "# load the data\n",
    "df=pd.read_csv('train.csv')\n",
    "dft=pd.read_csv('test.csv')\n",
    "\n",
    "# split the data\n",
    "x=df.drop(columns='Transported')\n",
    "y=df['Transported']\n",
    "\n",
    "# join test and train data\n",
    "df = pd.concat([x, dft], axis=0, join='outer')\n",
    "\n",
    "# clean the data\n",
    "df = df.replace(np.nan, 0)\n",
    "df=df.replace('True','0')\n",
    "df=df.replace('False','1')\n",
    "df=df.astype({'CryoSleep':int,'VIP':int})\n",
    "\n",
    "y=y.replace('True','0')\n",
    "y=y.replace('False','1')\n",
    "y=y.astype({'Transported':int})\n",
    "\n",
    "\n",
    "df[['pass_Group','pass-Number']]=df.PassengerId.str.split(pat='_',expand=True)\n",
    "df[['Deck','Num','Side']]=df.Cabin.str.split(pat='/',expand=True)\n",
    "df=df.drop(columns=['Name','PassengerId','Cabin'])\n",
    "df=df.astype({'Num':float, 'pass-Number':int, 'pass_Group':int})\n",
    "df = df.replace(np.nan, 0)\n",
    "df=pd.get_dummies(df)\n",
    "\n",
    "\n"
   ]
  },
  {
   "cell_type": "code",
   "execution_count": 62,
   "id": "3a3ae28b",
   "metadata": {},
   "outputs": [
    {
     "name": "stderr",
     "output_type": "stream",
     "text": [
      "C:\\Users\\PC\\anaconda3\\lib\\site-packages\\sklearn\\linear_model\\_logistic.py:814: ConvergenceWarning: lbfgs failed to converge (status=1):\n",
      "STOP: TOTAL NO. of ITERATIONS REACHED LIMIT.\n",
      "\n",
      "Increase the number of iterations (max_iter) or scale the data as shown in:\n",
      "    https://scikit-learn.org/stable/modules/preprocessing.html\n",
      "Please also refer to the documentation for alternative solver options:\n",
      "    https://scikit-learn.org/stable/modules/linear_model.html#logistic-regression\n",
      "  n_iter_i = _check_optimize_result(\n"
     ]
    }
   ],
   "source": [
    "# imoprt the alogo\n",
    "from sklearn.linear_model import LogisticRegression\n",
    "# Make predictions on validation dataset\n",
    "df_1 = df.iloc[:8693,:]\n",
    "df_2 = df.iloc[8693:,:]\n",
    "model = LogisticRegression()\n",
    "model.fit(df_1, y)\n",
    "predictions = model.predict(df_2)\n",
    "pr=pd.DataFrame(dft['PassengerId'],columns=['PassengerId'])\n",
    "pr['Transported']=predictions\n",
    "pr.set_index('PassengerId', inplace=True)\n",
    "pr=pr.astype({'Transported':str})\n",
    "pr=pr.replace('1','True')\n",
    "pr=pr.replace('0','False')\n",
    "\n"
   ]
  },
  {
   "cell_type": "code",
   "execution_count": 63,
   "id": "10758244",
   "metadata": {},
   "outputs": [],
   "source": [
    "pr.to_csv('prediction_results.csv')"
   ]
  },
  {
   "cell_type": "code",
   "execution_count": null,
   "id": "f348d1f2",
   "metadata": {},
   "outputs": [],
   "source": []
  }
 ],
 "metadata": {
  "kernelspec": {
   "display_name": "Python 3 (ipykernel)",
   "language": "python",
   "name": "python3"
  },
  "language_info": {
   "codemirror_mode": {
    "name": "ipython",
    "version": 3
   },
   "file_extension": ".py",
   "mimetype": "text/x-python",
   "name": "python",
   "nbconvert_exporter": "python",
   "pygments_lexer": "ipython3",
   "version": "3.9.12"
  }
 },
 "nbformat": 4,
 "nbformat_minor": 5
}
